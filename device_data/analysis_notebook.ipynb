{
 "cells": [
  {
   "cell_type": "markdown",
   "id": "157a6e32",
   "metadata": {},
   "source": [
    "# Airquality analysis v1.2\n",
    "\n",
    "### Description\n",
    "With this notebook you can analyze and plot the content of the airquality database.\n",
    "Go through the notebook cell by cell and fill in the missing TODOs. \n",
    "If you never heard about Jupyter notebook, i can recommend [this video](https://www.youtube.com/watch?v=jZ952vChhuI) to get a basic glimpse of the concept. \n",
    "---"
   ]
  },
  {
   "cell_type": "markdown",
   "id": "fd61a08b-75b9-4961-b717-46b5eb4cb561",
   "metadata": {},
   "source": [
    "### Python import and data query\n",
    "The first step is to import python packages used in the subsequent procedures. Pandas and Numpy are indispensible for Data Scientists and used for importing, manipulating and generating data. Furthermore, we use matplotlib for plotting and sqlite3 to import data from the sqlite database. "
   ]
  },
  {
   "cell_type": "code",
   "execution_count": 1,
   "id": "48cdb8ee-ed9d-4b37-9f08-58c0dd9f47eb",
   "metadata": {},
   "outputs": [],
   "source": [
    "import sqlite3\n",
    "\n",
    "import pandas as pd\n",
    "import numpy as np\n",
    "import matplotlib.pyplot as plt\n",
    "\n",
    "from matplotlib.dates import DateFormatter\n",
    "\n",
    "%matplotlib inline"
   ]
  },
  {
   "cell_type": "markdown",
   "id": "724de6cf",
   "metadata": {},
   "source": [
    "### Data import from the database\n",
    "Here we access the database and query all data available. With more advanced SQL queries we could also add some filters or sorting. However, since we don't have huge amounts of data, this is not necessary."
   ]
  },
  {
   "cell_type": "code",
   "execution_count": 2,
   "id": "226cbf6f",
   "metadata": {},
   "outputs": [
    {
     "data": {
      "text/html": [
       "<div>\n",
       "<style scoped>\n",
       "    .dataframe tbody tr th:only-of-type {\n",
       "        vertical-align: middle;\n",
       "    }\n",
       "\n",
       "    .dataframe tbody tr th {\n",
       "        vertical-align: top;\n",
       "    }\n",
       "\n",
       "    .dataframe thead th {\n",
       "        text-align: right;\n",
       "    }\n",
       "</style>\n",
       "<table border=\"1\" class=\"dataframe\">\n",
       "  <thead>\n",
       "    <tr style=\"text-align: right;\">\n",
       "      <th></th>\n",
       "      <th>value</th>\n",
       "      <th>unit</th>\n",
       "      <th>temperature</th>\n",
       "      <th>humidity</th>\n",
       "    </tr>\n",
       "    <tr>\n",
       "      <th>timestamp</th>\n",
       "      <th></th>\n",
       "      <th></th>\n",
       "      <th></th>\n",
       "      <th></th>\n",
       "    </tr>\n",
       "  </thead>\n",
       "  <tbody>\n",
       "    <tr>\n",
       "      <th>2023-05-12 13:58:32.608368</th>\n",
       "      <td>1274.6</td>\n",
       "      <td>ppm</td>\n",
       "      <td>24.233333</td>\n",
       "      <td>39.746667</td>\n",
       "    </tr>\n",
       "    <tr>\n",
       "      <th>2023-05-12 13:58:57.281214</th>\n",
       "      <td>1260.2</td>\n",
       "      <td>ppm</td>\n",
       "      <td>23.903333</td>\n",
       "      <td>40.466667</td>\n",
       "    </tr>\n",
       "    <tr>\n",
       "      <th>2023-05-12 13:59:20.479374</th>\n",
       "      <td>1268.8</td>\n",
       "      <td>ppm</td>\n",
       "      <td>23.670000</td>\n",
       "      <td>40.950000</td>\n",
       "    </tr>\n",
       "    <tr>\n",
       "      <th>2023-05-12 13:59:45.294064</th>\n",
       "      <td>1260.0</td>\n",
       "      <td>ppm</td>\n",
       "      <td>23.623333</td>\n",
       "      <td>41.216667</td>\n",
       "    </tr>\n",
       "    <tr>\n",
       "      <th>2023-05-12 14:00:08.553054</th>\n",
       "      <td>1274.6</td>\n",
       "      <td>ppm</td>\n",
       "      <td>23.630000</td>\n",
       "      <td>41.216667</td>\n",
       "    </tr>\n",
       "  </tbody>\n",
       "</table>\n",
       "</div>"
      ],
      "text/plain": [
       "                             value unit  temperature   humidity\n",
       "timestamp                                                      \n",
       "2023-05-12 13:58:32.608368  1274.6  ppm    24.233333  39.746667\n",
       "2023-05-12 13:58:57.281214  1260.2  ppm    23.903333  40.466667\n",
       "2023-05-12 13:59:20.479374  1268.8  ppm    23.670000  40.950000\n",
       "2023-05-12 13:59:45.294064  1260.0  ppm    23.623333  41.216667\n",
       "2023-05-12 14:00:08.553054  1274.6  ppm    23.630000  41.216667"
      ]
     },
     "execution_count": 2,
     "metadata": {},
     "output_type": "execute_result"
    }
   ],
   "source": [
    "db_path = 'airquality.db' #path to airquality.db\n",
    "con = sqlite3.connect(db_path)\n",
    "\n",
    "# import all datapoints from each sensor\n",
    "no2 = pd.read_sql_query(\"SELECT * from NO2\", con)\n",
    "co = pd.read_sql_query(\"SELECT * from CO\", con)\n",
    "o3 = pd.read_sql_query(\"SELECT * from O3\", con)\n",
    "co2 = pd.read_sql_query(\"SELECT * from CO2\", con)\n",
    "\n",
    "# set datetime as index since it is unique in the dataset and can be used for resampling in a later step. \n",
    "no2.index = pd.to_datetime(no2['timestamp'])\n",
    "co.index = pd.to_datetime(co['timestamp'])\n",
    "o3.index = pd.to_datetime(o3['timestamp'])\n",
    "co2.index = pd.to_datetime(co2['timestamp'])\n",
    "\n",
    "# delete useless columns of the dataframe\n",
    "no2.drop(['id', 'timestamp'], axis = 1, inplace = True)\n",
    "co.drop(['id', 'timestamp'], axis = 1, inplace = True)\n",
    "o3.drop(['id', 'timestamp'], axis = 1, inplace = True)\n",
    "co2.drop(['id', 'timestamp'], axis = 1, inplace = True)\n",
    "\n",
    "co2.head()"
   ]
  },
  {
   "cell_type": "code",
   "execution_count": 3,
   "id": "8b07c7ad",
   "metadata": {},
   "outputs": [
    {
     "data": {
      "text/html": [
       "<div>\n",
       "<style scoped>\n",
       "    .dataframe tbody tr th:only-of-type {\n",
       "        vertical-align: middle;\n",
       "    }\n",
       "\n",
       "    .dataframe tbody tr th {\n",
       "        vertical-align: top;\n",
       "    }\n",
       "\n",
       "    .dataframe thead th {\n",
       "        text-align: right;\n",
       "    }\n",
       "</style>\n",
       "<table border=\"1\" class=\"dataframe\">\n",
       "  <thead>\n",
       "    <tr style=\"text-align: right;\">\n",
       "      <th></th>\n",
       "      <th>value</th>\n",
       "      <th>unit</th>\n",
       "      <th>temperature</th>\n",
       "      <th>humidity</th>\n",
       "    </tr>\n",
       "    <tr>\n",
       "      <th>timestamp</th>\n",
       "      <th></th>\n",
       "      <th></th>\n",
       "      <th></th>\n",
       "      <th></th>\n",
       "    </tr>\n",
       "  </thead>\n",
       "  <tbody>\n",
       "    <tr>\n",
       "      <th>2023-05-12 13:58:32.608368</th>\n",
       "      <td>0.000008</td>\n",
       "      <td>ppm</td>\n",
       "      <td>24.233333</td>\n",
       "      <td>39.746667</td>\n",
       "    </tr>\n",
       "    <tr>\n",
       "      <th>2023-05-12 13:58:57.281214</th>\n",
       "      <td>0.000008</td>\n",
       "      <td>ppm</td>\n",
       "      <td>23.903333</td>\n",
       "      <td>40.466667</td>\n",
       "    </tr>\n",
       "    <tr>\n",
       "      <th>2023-05-12 13:59:20.479374</th>\n",
       "      <td>0.000008</td>\n",
       "      <td>ppm</td>\n",
       "      <td>23.670000</td>\n",
       "      <td>40.950000</td>\n",
       "    </tr>\n",
       "    <tr>\n",
       "      <th>2023-05-12 13:59:45.294064</th>\n",
       "      <td>0.000008</td>\n",
       "      <td>ppm</td>\n",
       "      <td>23.623333</td>\n",
       "      <td>41.216667</td>\n",
       "    </tr>\n",
       "    <tr>\n",
       "      <th>2023-05-12 14:00:08.553054</th>\n",
       "      <td>0.000008</td>\n",
       "      <td>ppm</td>\n",
       "      <td>23.630000</td>\n",
       "      <td>41.216667</td>\n",
       "    </tr>\n",
       "  </tbody>\n",
       "</table>\n",
       "</div>"
      ],
      "text/plain": [
       "                               value unit  temperature   humidity\n",
       "timestamp                                                        \n",
       "2023-05-12 13:58:32.608368  0.000008  ppm    24.233333  39.746667\n",
       "2023-05-12 13:58:57.281214  0.000008  ppm    23.903333  40.466667\n",
       "2023-05-12 13:59:20.479374  0.000008  ppm    23.670000  40.950000\n",
       "2023-05-12 13:59:45.294064  0.000008  ppm    23.623333  41.216667\n",
       "2023-05-12 14:00:08.553054  0.000008  ppm    23.630000  41.216667"
      ]
     },
     "execution_count": 3,
     "metadata": {},
     "output_type": "execute_result"
    }
   ],
   "source": [
    "no2.head()"
   ]
  },
  {
   "cell_type": "markdown",
   "id": "4ee6f1b9-de75-49ed-bec3-b241d2830073",
   "metadata": {},
   "source": [
    "---\n",
    "## Basic information and stats about the data\n",
    "As of now we have the data imported from the database and can work with it in the notebook. \n",
    "With df.head() you can easily investigate the first column of any dataframe visually. We will now investigate the data a bit more in detail and will:\n",
    "\n",
    "- Reduce it to the timeframe of interest\n",
    "- Calculate the arithmetic average\n",
    "- Calculate the variance\n",
    "\n",
    "After you have calculated the values, compare them with your fellow students and draw a conclusion (or not) if your sensor position affected the measurements. "
   ]
  },
  {
   "cell_type": "code",
   "execution_count": 4,
   "id": "e926efb7",
   "metadata": {},
   "outputs": [
    {
     "name": "stdout",
     "output_type": "stream",
     "text": [
      "The earliest datetime in the database is: 2023-05-12 13:58:32.608368\n",
      "The latest datetime in the database is: 2023-05-12 16:07:37.481283\n"
     ]
    }
   ],
   "source": [
    "# The database also holds old data which we don't want to have in our calculations. \n",
    "\n",
    "print(f'The earliest datetime in the database is: {no2.index.min()}')\n",
    "print(f'The latest datetime in the database is: {no2.index.max()}')\n",
    "\n",
    "# TODO: Choose the timeframe of interest with the loc operator. Perform it for the no2, o3 and co dataframe.\n",
    "#       Example: no2_sel = no2.loc['YYYY-MM-DD H:M:S':'YYYY-MM-DD H:M:S']"
   ]
  },
  {
   "cell_type": "code",
   "execution_count": 5,
   "id": "b90a088d",
   "metadata": {},
   "outputs": [],
   "source": [
    "# You can use df['column_name'].mean() to calculate the average of a dataframe column.  \n",
    "\n",
    "# TODO: Apply .mean() to the 'value' column of the dataframes (e.g. no2['value']). \n",
    "#       You can also try out other functions such as: .sum(), .std() etc..."
   ]
  },
  {
   "cell_type": "markdown",
   "id": "d44d12c4-4a62-4bed-bdd9-6eee1848f046",
   "metadata": {},
   "source": [
    "---\n",
    "## Apply conversion factors\n",
    "As described in the script, we need to apply conversion factors to convert the ppm value to µg/m^3. This is important, since the unit of the official limits is µg/m^3. "
   ]
  },
  {
   "cell_type": "code",
   "execution_count": 6,
   "id": "6f6e5f19-1db5-478c-b9f1-4233a5203036",
   "metadata": {},
   "outputs": [],
   "source": [
    "# Convert the value from ppm to µg/m^3 and store it in a new column. \n",
    "\n",
    "# TODO: Look for the conversion factors in your course script and apply them to all values in the value \n",
    "#       column of the dataframe. Store the converted values in a new column. Investigate the converted\n",
    "#       table with df.head()\n",
    "# Hint: With df[NewColumn] = df[OldColumn] * value you can easily convert the values; 1 ppm = 1000 ppb \n"
   ]
  },
  {
   "cell_type": "markdown",
   "id": "1b584809-ad1e-4a26-b43d-b24f259f9a86",
   "metadata": {},
   "source": [
    "---\n",
    "## Plot the data\n",
    "\n",
    "Now it is time to plot the values of each sensor and investigate the timeseries. Below you can find an example plot of the no2 values, the measured temperature and humidity. Find a good way to investigate the data, play around with scales, colors and plottypes.<br>\n",
    "You can find example plots and descriptions [here](https://matplotlib.org/stable/plot_types/index.html). "
   ]
  },
  {
   "cell_type": "code",
   "execution_count": 4,
   "id": "802dc1ad",
   "metadata": {},
   "outputs": [
    {
     "data": {
      "image/png": "[encoded data removed]",
      "text/plain": [
       "<Figure size 1152x648 with 3 Axes>"
      ]
     },
     "metadata": {
      "needs_background": "light"
     },
     "output_type": "display_data"
    }
   ],
   "source": [
    "#value plot\n",
    "fig, ax = plt.subplots(3, 1, figsize = (16,9), sharex = True)\n",
    "\n",
    "ax[0].plot(no2[\"value\"])\n",
    "ax[1].plot(co[\"value\"])\n",
    "ax[2].plot(co2[\"value\"])\n",
    "\n",
    "hh_mm = DateFormatter('%H:%M')\n",
    "ax[2].xaxis.set_major_formatter(hh_mm)"
   ]
  },
  {
   "cell_type": "markdown",
   "id": "a9d1bc9e",
   "metadata": {},
   "source": [
    "## Plot temperature and humidity in same timeframe\n",
    "\n",
    "Using the example above, plot the temperature and Humidity in the same timeframe. "
   ]
  },
  {
   "cell_type": "code",
   "execution_count": 8,
   "id": "f49fc288",
   "metadata": {},
   "outputs": [],
   "source": [
    "# TODO: Plot temperature and humidity in the same timeframe\n",
    "# Hint: Use the example above; The temperature and humidity in all dataframes are the same, \n",
    "#       therefore you only need to print them once. \n",
    "\n"
   ]
  },
  {
   "cell_type": "markdown",
   "id": "6a4fe8f9-3bd8-4546-a64c-e0658130648d",
   "metadata": {},
   "source": [
    "---\n",
    "## Interpretation of the data\n",
    " What can you deduce from the graphs above?\n",
    " Do you think that the mean is a representative value considering the plot? \n",
    " Are the sensors suited for the shown evaluation?"
   ]
  },
  {
   "cell_type": "markdown",
   "id": "556383fe-ca98-4512-8f45-c2e2ef7e8286",
   "metadata": {},
   "source": [
    "## Resampling of the data\n",
    "\n",
    "With the very simple function df.resample('resample_time') you can calculate groups of data that fit a specific timeframe. E.g. df.resample('M').mean() returns a dataframe holding the monthly average of the data in df. We will now use this function to calculate 5min averaged and median values. "
   ]
  },
  {
   "cell_type": "code",
   "execution_count": 9,
   "id": "fe61ea44-da89-41ec-bf31-70daeb233c42",
   "metadata": {},
   "outputs": [],
   "source": [
    "# TODO: Use df.resample() to calculate a new dataframe holding the 5min average and median values. \n",
    "#       Plot the resampled values. \n",
    "\n"
   ]
  }
 ],
 "metadata": {
  "interpreter": {
   "hash": "248433ad827e841b8a0a609103eb0fa2f5f3066f4d8b6b6e1b8a3d63287775cf"
  },
  "kernelspec": {
   "display_name": "Python 3 (ipykernel)",
   "language": "python",
   "name": "python3"
  },
  "language_info": {
   "codemirror_mode": {
    "name": "ipython",
    "version": 3
   },
   "file_extension": ".py",
   "mimetype": "text/x-python",
   "name": "python",
   "nbconvert_exporter": "python",
   "pygments_lexer": "ipython3",
   "version": "3.9.2"
  }
 },
 "nbformat": 4,
 "nbformat_minor": 5
}
